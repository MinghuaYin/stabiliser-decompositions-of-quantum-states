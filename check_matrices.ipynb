{
 "cells": [
  {
   "cell_type": "code",
   "execution_count": 1,
   "metadata": {},
   "outputs": [],
   "source": [
    "import numpy as np\n",
    "def num_of_stab_states(n):\n",
    "    return 2**n * np.prod(2**np.arange(1, n+1) + 1)"
   ]
  },
  {
   "cell_type": "code",
   "execution_count": 2,
   "metadata": {},
   "outputs": [
    {
     "data": {
      "text/plain": [
       "(315057600, 4922775)"
      ]
     },
     "execution_count": 2,
     "metadata": {},
     "output_type": "execute_result"
    }
   ],
   "source": [
    "n = 6\n",
    "num_of_stab_states(n), num_of_stab_states(n) // 2**n"
   ]
  },
  {
   "cell_type": "code",
   "execution_count": 3,
   "metadata": {},
   "outputs": [],
   "source": [
    "from julia import Julia\n",
    "jl = Julia(sysimage='/home/lemingathon/anaconda3/bin/sys.so')"
   ]
  },
  {
   "cell_type": "code",
   "execution_count": 4,
   "metadata": {},
   "outputs": [
    {
     "data": {
      "text/plain": [
       "<PyCall.jlwrap `/home/lemingathon/anaconda3/bin/julia-py -Cnative -J/home/lemingathon/anaconda3/bin/sys.so -g1`>"
      ]
     },
     "execution_count": 4,
     "metadata": {},
     "output_type": "execute_result"
    }
   ],
   "source": [
    "from julia import Base\n",
    "Base.julia_cmd()"
   ]
  },
  {
   "cell_type": "code",
   "execution_count": 5,
   "metadata": {},
   "outputs": [],
   "source": [
    "from julia import Main"
   ]
  },
  {
   "cell_type": "code",
   "execution_count": 6,
   "metadata": {},
   "outputs": [
    {
     "name": "stdout",
     "output_type": "stream",
     "text": [
      "Initializing Julia interpreter. This may take some time...\n"
     ]
    }
   ],
   "source": [
    "%load_ext julia.magic"
   ]
  },
  {
   "cell_type": "code",
   "execution_count": 7,
   "metadata": {},
   "outputs": [],
   "source": [
    "%julia using QuantumClifford"
   ]
  },
  {
   "cell_type": "code",
   "execution_count": null,
   "metadata": {},
   "outputs": [],
   "source": [
    "symp_mats = %julia [stab_to_gf2(cliff.tab) for cliff in enumerate_cliffords(4)];\n",
    "len(symp_mats)"
   ]
  },
  {
   "cell_type": "code",
   "execution_count": 11,
   "metadata": {},
   "outputs": [
    {
     "data": {
      "text/plain": [
       "720"
      ]
     },
     "execution_count": 11,
     "metadata": {},
     "output_type": "execute_result"
    }
   ],
   "source": [
    "from helper_functions import rref_binary\n",
    "\n",
    "xmatrs_with_dups = []\n",
    "for mat in symp_mats:\n",
    "    xmatrs_with_dups.append(rref_binary(mat[:2, :], False).astype(np.int8))\n",
    "len(xmatrs_with_dups)"
   ]
  },
  {
   "cell_type": "code",
   "execution_count": 12,
   "metadata": {},
   "outputs": [
    {
     "data": {
      "text/plain": [
       "15"
      ]
     },
     "execution_count": 12,
     "metadata": {},
     "output_type": "execute_result"
    }
   ],
   "source": [
    "xmatrs = set()\n",
    "for mat in xmatrs_with_dups:\n",
    "    xmatrs = xmatrs.union({str(mat)})\n",
    "len(xmatrs)"
   ]
  },
  {
   "cell_type": "code",
   "execution_count": 13,
   "metadata": {},
   "outputs": [],
   "source": [
    "import pickle\n",
    "with open('data/2_qubit_subgroups.data', 'rb') as reader:\n",
    "    subgroups = pickle.load(reader)"
   ]
  },
  {
   "cell_type": "code",
   "execution_count": 17,
   "metadata": {},
   "outputs": [
    {
     "name": "stdout",
     "output_type": "stream",
     "text": [
      "[[1 0 1 0]\n",
      " [0 1 0 1]]\n",
      "[[1 0 1 0]\n",
      " [0 1 0 0]]\n",
      "[[1 0 0 1]\n",
      " [0 1 1 0]]\n",
      "[[1 0 1 1]\n",
      " [0 1 1 0]]\n",
      "[[0 0 1 0]\n",
      " [0 0 0 1]]\n",
      "[[1 0 1 0]\n",
      " [0 0 0 1]]\n",
      "[[1 0 0 1]\n",
      " [0 1 1 1]]\n",
      "[[1 1 0 0]\n",
      " [0 0 1 1]]\n",
      "[[0 1 0 1]\n",
      " [0 0 1 0]]\n",
      "[[1 0 0 0]\n",
      " [0 1 0 1]]\n",
      "[[1 1 0 1]\n",
      " [0 0 1 1]]\n",
      "[[1 0 0 0]\n",
      " [0 1 0 0]]\n",
      "[[1 0 1 1]\n",
      " [0 1 1 1]]\n",
      "[[1 0 0 0]\n",
      " [0 0 0 1]]\n",
      "[[0 1 0 0]\n",
      " [0 0 1 0]]\n",
      "------------\n",
      "[[0 0 1 0]\n",
      " [0 0 0 1]]\n",
      "[[0 1 0 0]\n",
      " [0 0 1 0]]\n",
      "[[0 1 0 1]\n",
      " [0 0 1 0]]\n",
      "[[1 0 0 0]\n",
      " [0 0 0 1]]\n",
      "[[1 0 1 0]\n",
      " [0 0 0 1]]\n",
      "[[1 1 0 0]\n",
      " [0 0 1 1]]\n",
      "[[1 1 0 1]\n",
      " [0 0 1 1]]\n",
      "[[1 0 0 0]\n",
      " [0 1 0 0]]\n",
      "[[1 0 0 0]\n",
      " [0 1 0 1]]\n",
      "[[1 0 0 1]\n",
      " [0 1 1 0]]\n",
      "[[1 0 0 1]\n",
      " [0 1 1 1]]\n",
      "[[1 0 1 0]\n",
      " [0 1 0 0]]\n",
      "[[1 0 1 0]\n",
      " [0 1 0 1]]\n",
      "[[1 0 1 1]\n",
      " [0 1 1 0]]\n",
      "[[1 0 1 1]\n",
      " [0 1 1 1]]\n"
     ]
    }
   ],
   "source": [
    "print(*xmatrs, sep='\\n', end='\\n------------\\n')\n",
    "print(*subgroups, sep='\\n')"
   ]
  },
  {
   "cell_type": "code",
   "execution_count": 45,
   "metadata": {},
   "outputs": [
    {
     "data": {
      "text/plain": [
       "array([[0, 0, 1, 0],\n",
       "       [0, 0, 0, 1],\n",
       "       [1, 0, 0, 0],\n",
       "       [0, 1, 0, 0]], dtype=int8)"
      ]
     },
     "execution_count": 45,
     "metadata": {},
     "output_type": "execute_result"
    }
   ],
   "source": [
    "Lambda = np.block([[np.zeros((n, n)), np.eye(n)], [np.eye(n), np.zeros((n, n))]]).astype(np.int8)\n",
    "Lambda"
   ]
  },
  {
   "cell_type": "code",
   "execution_count": 47,
   "metadata": {},
   "outputs": [
    {
     "data": {
      "text/plain": [
       "array([[0, 0, 1, 0],\n",
       "       [0, 0, 0, 1],\n",
       "       [1, 0, 0, 0],\n",
       "       [0, 1, 0, 0]], dtype=int8)"
      ]
     },
     "execution_count": 47,
     "metadata": {},
     "output_type": "execute_result"
    }
   ],
   "source": [
    "(sm @ Lambda @ sm.T) % 2"
   ]
  },
  {
   "cell_type": "code",
   "execution_count": 49,
   "metadata": {},
   "outputs": [
    {
     "data": {
      "text/plain": [
       "array([[0, 0],\n",
       "       [0, 0]], dtype=int8)"
      ]
     },
     "execution_count": 49,
     "metadata": {},
     "output_type": "execute_result"
    }
   ],
   "source": [
    "sm_trunc = sm[:2, :]\n",
    "(sm_trunc @ Lambda @ sm_trunc.T) % 2"
   ]
  },
  {
   "cell_type": "code",
   "execution_count": 52,
   "metadata": {},
   "outputs": [
    {
     "data": {
      "text/plain": [
       "array([[1, 0, 0, 1],\n",
       "       [0, 1, 0, 1],\n",
       "       [0, 0, 1, 1],\n",
       "       [0, 0, 0, 1]], dtype=int8)"
      ]
     },
     "execution_count": 52,
     "metadata": {},
     "output_type": "execute_result"
    }
   ],
   "source": [
    "rref_binary(sm, False)"
   ]
  }
 ],
 "metadata": {
  "kernelspec": {
   "display_name": "base",
   "language": "python",
   "name": "python3"
  },
  "language_info": {
   "codemirror_mode": {
    "name": "ipython",
    "version": 3
   },
   "file_extension": ".py",
   "mimetype": "text/x-python",
   "name": "python",
   "nbconvert_exporter": "python",
   "pygments_lexer": "ipython3",
   "version": "3.10.12"
  }
 },
 "nbformat": 4,
 "nbformat_minor": 2
}
