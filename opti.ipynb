{
 "cells": [
  {
   "cell_type": "code",
   "execution_count": 3,
   "metadata": {},
   "outputs": [
    {
     "data": {
      "text/plain": [
       "(1.883984097463003,\n",
       " array([8.47463892e-17+8.57864376e-02j, 6.06601718e-02+6.06601718e-02j,\n",
       "        6.06601718e-02+6.06601718e-02j, 8.57864376e-02-1.73718641e-16j,\n",
       "        6.06601718e-02+6.06601718e-02j, 8.57864376e-02-1.98004769e-16j,\n",
       "        8.57864376e-02+3.71452248e-17j, 6.06601718e-02-6.06601718e-02j,\n",
       "        6.06601718e-02+6.06601718e-02j, 8.57864376e-02-2.10147834e-16j,\n",
       "        8.57864376e-02+7.87785883e-17j, 6.06601718e-02-6.06601718e-02j,\n",
       "        8.57864376e-02+2.32674370e-17j, 6.06601718e-02-6.06601718e-02j,\n",
       "        6.06601718e-02-6.06601718e-02j, 1.57287182e-16-8.57864376e-02j]))"
      ]
     },
     "execution_count": 3,
     "metadata": {},
     "output_type": "execute_result"
    }
   ],
   "source": [
    "import mpmath\n",
    "\n",
    "import cvx_opti as opt\n",
    "import numpy as np\n",
    "import scipy as sp\n",
    "import scipy.sparse as spr\n",
    "\n",
    "n = 4\n",
    "soln = np.load(f'data/{n}_qubit_soln.npy')\n",
    "soln = spr.csc_array(soln)\n",
    "extent, state_vectors, soln = opt.more_precise_soln(4, soln, opt.T_state(4))\n",
    "extent, soln"
   ]
  },
  {
   "cell_type": "code",
   "execution_count": 4,
   "metadata": {},
   "outputs": [
    {
     "data": {
      "text/plain": [
       "'((48-sqrt(2048))/2)**2'"
      ]
     },
     "execution_count": 4,
     "metadata": {},
     "output_type": "execute_result"
    }
   ],
   "source": [
    "mpmath.identify(extent)"
   ]
  }
 ],
 "metadata": {
  "kernelspec": {
   "display_name": "base",
   "language": "python",
   "name": "python3"
  },
  "language_info": {
   "codemirror_mode": {
    "name": "ipython",
    "version": 3
   },
   "file_extension": ".py",
   "mimetype": "text/x-python",
   "name": "python",
   "nbconvert_exporter": "python",
   "pygments_lexer": "ipython3",
   "version": "3.10.12"
  }
 },
 "nbformat": 4,
 "nbformat_minor": 2
}
