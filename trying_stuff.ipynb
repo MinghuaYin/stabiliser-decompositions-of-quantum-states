{
 "cells": [
  {
   "cell_type": "code",
   "execution_count": 7,
   "id": "e3fce0a4",
   "metadata": {},
   "outputs": [],
   "source": [
    "import pickle\n",
    "\n",
    "import numpy as np"
   ]
  },
  {
   "cell_type": "code",
   "execution_count": 8,
   "id": "3bb93d57",
   "metadata": {},
   "outputs": [],
   "source": [
    "with open('data/3_qubit_stab_sorted.data', 'rb') as reader:\n",
    "    stab_sorted = pickle.load(reader)"
   ]
  },
  {
   "cell_type": "code",
   "execution_count": 9,
   "id": "e3a17fa2",
   "metadata": {},
   "outputs": [],
   "source": [
    "stab_matrix = np.loadtxt('data/3_qubit_matrix_sorted.csv', delimiter=',',\n",
    "                         dtype=complex)"
   ]
  },
  {
   "cell_type": "code",
   "execution_count": 10,
   "id": "882e279e",
   "metadata": {},
   "outputs": [],
   "source": [
    "selection = stab_matrix[:, ::8]"
   ]
  },
  {
   "cell_type": "code",
   "execution_count": 11,
   "id": "d9630b44",
   "metadata": {},
   "outputs": [
    {
     "data": {
      "text/plain": [
       "array([-0.5-0.j ,  0. -0.5j,  0. -0.j ,  0. -0.j ,  0. -0.j ,  0. -0.j ,\n",
       "        0. -0.5j, -0.5-0.j ])"
      ]
     },
     "execution_count": 11,
     "metadata": {},
     "output_type": "execute_result"
    }
   ],
   "source": [
    "stab_matrix[:, 560]"
   ]
  },
  {
   "cell_type": "code",
   "execution_count": 12,
   "id": "bc69d61a",
   "metadata": {},
   "outputs": [
    {
     "data": {
      "text/plain": [
       "{'vector': array([[-0.5-0.j ],\n",
       "        [ 0. -0.5j],\n",
       "        [ 0. -0.j ],\n",
       "        [ 0. -0.j ],\n",
       "        [ 0. -0.j ],\n",
       "        [ 0. -0.j ],\n",
       "        [ 0. -0.5j],\n",
       "        [-0.5-0.j ]]),\n",
       " 'latex': '\\\\frac{1}{2}\\\\big{(}-|000\\\\rangle-i|001\\\\rangle-i|110\\\\rangle-|111\\\\rangle\\\\big{)}',\n",
       " 'check_matrix': array([[1, 1, 0, 0, 1, 1],\n",
       "        [0, 0, 1, 0, 1, 1],\n",
       "        [0, 0, 0, 1, 1, 0]]),\n",
       " 'generator_strs': ['XYZ', 'IZY', 'ZZI']}"
      ]
     },
     "execution_count": 12,
     "metadata": {},
     "output_type": "execute_result"
    }
   ],
   "source": [
    "stab_sorted[560]"
   ]
  },
  {
   "cell_type": "code",
   "execution_count": 13,
   "id": "e4629c1f",
   "metadata": {},
   "outputs": [
    {
     "data": {
      "text/plain": [
       "{'vector': array([[-0. -0.j ],\n",
       "        [-0. -0.j ],\n",
       "        [ 0.5-0.j ],\n",
       "        [-0. -0.5j],\n",
       "        [-0. -0.5j],\n",
       "        [ 0.5-0.j ],\n",
       "        [-0. -0.j ],\n",
       "        [-0. -0.j ]]),\n",
       " 'latex': '\\\\frac{1}{2}\\\\big{(}|010\\\\rangle-i|011\\\\rangle-i|100\\\\rangle+|101\\\\rangle\\\\big{)}',\n",
       " 'check_matrix': array([[1, 1, 0, 0, 1, 1],\n",
       "        [0, 0, 1, 0, 1, 1],\n",
       "        [0, 0, 0, 1, 1, 0]]),\n",
       " 'generator_strs': ['XYZ', 'IZY', '-ZZI']}"
      ]
     },
     "execution_count": 13,
     "metadata": {},
     "output_type": "execute_result"
    }
   ],
   "source": [
    "stab_sorted[561]"
   ]
  },
  {
   "cell_type": "code",
   "execution_count": 14,
   "id": "49b4a587",
   "metadata": {},
   "outputs": [],
   "source": [
    "n = 3\n",
    "lin_dep_mat = np.loadtxt(f'data/{n}_qubit_nullspace_nice.csv', delimiter=',', dtype=complex)\n",
    "updated_mat = (lin_dep_mat * np.sqrt(2)).round(3)"
   ]
  },
  {
   "cell_type": "code",
   "execution_count": 15,
   "id": "f413c80c",
   "metadata": {},
   "outputs": [],
   "source": [
    "updated_mat[updated_mat == 1.414] = np.sqrt(2)"
   ]
  },
  {
   "cell_type": "code",
   "execution_count": 31,
   "id": "4aecb9fc",
   "metadata": {},
   "outputs": [],
   "source": [
    "np.savetxt(f'data/{n}_qubit_B.csv', updated_mat, delimiter=',', fmt='%f')"
   ]
  },
  {
   "cell_type": "markdown",
   "id": "a5a1e06c",
   "metadata": {},
   "source": [
    "------"
   ]
  },
  {
   "cell_type": "code",
   "execution_count": 40,
   "id": "56ce0b7b",
   "metadata": {},
   "outputs": [],
   "source": [
    "n = 4\n",
    "with open(f'data/{n}_qubit_subgroups.data', 'rb') as reader:\n",
    "    check_matrices = pickle.load(reader)"
   ]
  },
  {
   "cell_type": "code",
   "execution_count": 35,
   "id": "1206f61b",
   "metadata": {},
   "outputs": [],
   "source": [
    "from subgroups import binary_matrix_rank"
   ]
  },
  {
   "cell_type": "code",
   "execution_count": 37,
   "id": "616c4023",
   "metadata": {},
   "outputs": [
    {
     "data": {
      "text/plain": [
       "0"
      ]
     },
     "execution_count": 37,
     "metadata": {},
     "output_type": "execute_result"
    }
   ],
   "source": [
    "binary_matrix_rank(check_matrices[0][:, :4])"
   ]
  },
  {
   "cell_type": "code",
   "execution_count": 41,
   "id": "798975dd",
   "metadata": {},
   "outputs": [],
   "source": [
    "check_mats_sorted = sorted(check_matrices, \n",
    "                           key=lambda mat: binary_matrix_rank(mat[:, :4]))"
   ]
  },
  {
   "cell_type": "code",
   "execution_count": 42,
   "id": "ae65d3be",
   "metadata": {
    "collapsed": true,
    "jupyter": {
     "outputs_hidden": true
    }
   },
   "outputs": [
    {
     "data": {
      "text/plain": [
       "[array([[0, 0, 0, 0, 1, 0, 0, 0],\n",
       "        [0, 0, 0, 0, 0, 1, 0, 0],\n",
       "        [0, 0, 0, 0, 0, 0, 1, 0],\n",
       "        [0, 0, 0, 0, 0, 0, 0, 1]]),\n",
       " array([[0, 0, 0, 1, 0, 0, 0, 0],\n",
       "        [0, 0, 0, 0, 1, 0, 0, 0],\n",
       "        [0, 0, 0, 0, 0, 1, 0, 0],\n",
       "        [0, 0, 0, 0, 0, 0, 1, 0]]),\n",
       " array([[0, 0, 0, 1, 0, 0, 0, 1],\n",
       "        [0, 0, 0, 0, 1, 0, 0, 0],\n",
       "        [0, 0, 0, 0, 0, 1, 0, 0],\n",
       "        [0, 0, 0, 0, 0, 0, 1, 0]]),\n",
       " array([[0, 0, 1, 0, 0, 0, 0, 0],\n",
       "        [0, 0, 0, 0, 1, 0, 0, 0],\n",
       "        [0, 0, 0, 0, 0, 1, 0, 0],\n",
       "        [0, 0, 0, 0, 0, 0, 0, 1]]),\n",
       " array([[0, 0, 1, 0, 0, 0, 1, 0],\n",
       "        [0, 0, 0, 0, 1, 0, 0, 0],\n",
       "        [0, 0, 0, 0, 0, 1, 0, 0],\n",
       "        [0, 0, 0, 0, 0, 0, 0, 1]]),\n",
       " array([[0, 0, 1, 1, 0, 0, 0, 0],\n",
       "        [0, 0, 0, 0, 1, 0, 0, 0],\n",
       "        [0, 0, 0, 0, 0, 1, 0, 0],\n",
       "        [0, 0, 0, 0, 0, 0, 1, 1]]),\n",
       " array([[0, 0, 1, 1, 0, 0, 0, 1],\n",
       "        [0, 0, 0, 0, 1, 0, 0, 0],\n",
       "        [0, 0, 0, 0, 0, 1, 0, 0],\n",
       "        [0, 0, 0, 0, 0, 0, 1, 1]]),\n",
       " array([[0, 1, 0, 0, 0, 0, 0, 0],\n",
       "        [0, 0, 0, 0, 1, 0, 0, 0],\n",
       "        [0, 0, 0, 0, 0, 0, 1, 0],\n",
       "        [0, 0, 0, 0, 0, 0, 0, 1]]),\n",
       " array([[0, 1, 0, 0, 0, 1, 0, 0],\n",
       "        [0, 0, 0, 0, 1, 0, 0, 0],\n",
       "        [0, 0, 0, 0, 0, 0, 1, 0],\n",
       "        [0, 0, 0, 0, 0, 0, 0, 1]]),\n",
       " array([[0, 1, 0, 1, 0, 0, 0, 0],\n",
       "        [0, 0, 0, 0, 1, 0, 0, 0],\n",
       "        [0, 0, 0, 0, 0, 1, 0, 1],\n",
       "        [0, 0, 0, 0, 0, 0, 1, 0]])]"
      ]
     },
     "execution_count": 42,
     "metadata": {},
     "output_type": "execute_result"
    }
   ],
   "source": [
    "check_mats_sorted[:10]"
   ]
  }
 ],
 "metadata": {
  "kernelspec": {
   "display_name": "Python 3 (Spyder)",
   "language": "python3",
   "name": "python3"
  },
  "language_info": {
   "codemirror_mode": {
    "name": "ipython",
    "version": 3
   },
   "file_extension": ".py",
   "mimetype": "text/x-python",
   "name": "python",
   "nbconvert_exporter": "python",
   "pygments_lexer": "ipython3",
   "version": "3.10.12"
  }
 },
 "nbformat": 4,
 "nbformat_minor": 5
}
