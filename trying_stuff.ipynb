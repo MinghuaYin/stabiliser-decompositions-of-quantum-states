{
 "cells": [
  {
   "cell_type": "code",
   "execution_count": 1,
   "id": "de55a94d",
   "metadata": {},
   "outputs": [],
   "source": [
    "import pickle\n",
    "\n",
    "import numpy as np"
   ]
  },
  {
   "cell_type": "code",
   "execution_count": 8,
   "id": "5c046c4c",
   "metadata": {},
   "outputs": [],
   "source": [
    "with open('data/3_qubit_stab_sorted.data', 'rb') as reader:\n",
    "    stab_sorted = pickle.load(reader)"
   ]
  },
  {
   "cell_type": "code",
   "execution_count": 9,
   "id": "2c18593a",
   "metadata": {},
   "outputs": [],
   "source": [
    "stab_matrix = np.loadtxt('data/3_qubit_matrix_sorted.csv', delimiter=',',\n",
    "                         dtype=complex)"
   ]
  },
  {
   "cell_type": "code",
   "execution_count": 10,
   "id": "838e33d5",
   "metadata": {},
   "outputs": [],
   "source": [
    "selection = stab_matrix[:, ::8]"
   ]
  },
  {
   "cell_type": "code",
   "execution_count": 11,
   "id": "8567957e",
   "metadata": {},
   "outputs": [
    {
     "data": {
      "text/plain": [
       "array([-0.5-0.j ,  0. -0.5j,  0. -0.j ,  0. -0.j ,  0. -0.j ,  0. -0.j ,\n",
       "        0. -0.5j, -0.5-0.j ])"
      ]
     },
     "execution_count": 11,
     "metadata": {},
     "output_type": "execute_result"
    }
   ],
   "source": [
    "stab_matrix[:, 560]"
   ]
  },
  {
   "cell_type": "code",
   "execution_count": 12,
   "id": "07812fb0",
   "metadata": {},
   "outputs": [
    {
     "data": {
      "text/plain": [
       "{'vector': array([[-0.5-0.j ],\n",
       "        [ 0. -0.5j],\n",
       "        [ 0. -0.j ],\n",
       "        [ 0. -0.j ],\n",
       "        [ 0. -0.j ],\n",
       "        [ 0. -0.j ],\n",
       "        [ 0. -0.5j],\n",
       "        [-0.5-0.j ]]),\n",
       " 'latex': '\\\\frac{1}{2}\\\\big{(}-|000\\\\rangle-i|001\\\\rangle-i|110\\\\rangle-|111\\\\rangle\\\\big{)}',\n",
       " 'check_matrix': array([[1, 1, 0, 0, 1, 1],\n",
       "        [0, 0, 1, 0, 1, 1],\n",
       "        [0, 0, 0, 1, 1, 0]]),\n",
       " 'generator_strs': ['XYZ', 'IZY', 'ZZI']}"
      ]
     },
     "execution_count": 12,
     "metadata": {},
     "output_type": "execute_result"
    }
   ],
   "source": [
    "stab_sorted[560]"
   ]
  },
  {
   "cell_type": "code",
   "execution_count": 13,
   "id": "1025eb01",
   "metadata": {},
   "outputs": [
    {
     "data": {
      "text/plain": [
       "{'vector': array([[-0. -0.j ],\n",
       "        [-0. -0.j ],\n",
       "        [ 0.5-0.j ],\n",
       "        [-0. -0.5j],\n",
       "        [-0. -0.5j],\n",
       "        [ 0.5-0.j ],\n",
       "        [-0. -0.j ],\n",
       "        [-0. -0.j ]]),\n",
       " 'latex': '\\\\frac{1}{2}\\\\big{(}|010\\\\rangle-i|011\\\\rangle-i|100\\\\rangle+|101\\\\rangle\\\\big{)}',\n",
       " 'check_matrix': array([[1, 1, 0, 0, 1, 1],\n",
       "        [0, 0, 1, 0, 1, 1],\n",
       "        [0, 0, 0, 1, 1, 0]]),\n",
       " 'generator_strs': ['XYZ', 'IZY', '-ZZI']}"
      ]
     },
     "execution_count": 13,
     "metadata": {},
     "output_type": "execute_result"
    }
   ],
   "source": [
    "stab_sorted[561]"
   ]
  },
  {
   "cell_type": "code",
   "execution_count": 14,
   "id": "feefed47",
   "metadata": {},
   "outputs": [],
   "source": [
    "n = 3\n",
    "lin_dep_mat = np.loadtxt(f'data/{n}_qubit_nullspace_nice.csv', delimiter=',', dtype=complex)\n",
    "updated_mat = (lin_dep_mat * np.sqrt(2)).round(3)"
   ]
  },
  {
   "cell_type": "code",
   "execution_count": 15,
   "id": "10042b81",
   "metadata": {},
   "outputs": [],
   "source": [
    "updated_mat[updated_mat == 1.414] = np.sqrt(2)"
   ]
  },
  {
   "cell_type": "code",
   "execution_count": 31,
   "id": "e256df52",
   "metadata": {},
   "outputs": [],
   "source": [
    "np.savetxt(f'data/{n}_qubit_B.csv', updated_mat, delimiter=',', fmt='%f')"
   ]
  },
  {
   "cell_type": "markdown",
   "id": "bcb9b0d9",
   "metadata": {},
   "source": [
    "------"
   ]
  },
  {
   "cell_type": "code",
   "execution_count": 2,
   "id": "a8815c90",
   "metadata": {},
   "outputs": [],
   "source": [
    "n = 5\n",
    "with open(f'data/{n}_qubit_subgroups.data', 'rb') as reader:\n",
    "    check_matrices = pickle.load(reader)"
   ]
  },
  {
   "cell_type": "code",
   "execution_count": 4,
   "id": "2459146b",
   "metadata": {},
   "outputs": [],
   "source": [
    "def binary_matrix_rank(A):\n",
    "    \"\"\"\n",
    "    Finds the rank of the binary matrix A by effectively converting it\n",
    "    into row echelon form.\n",
    "\n",
    "    Parameters\n",
    "    ----------\n",
    "    A : np.ndarray\n",
    "\n",
    "    N.B. This method *changes* the matrix A!\n",
    "\n",
    "    Returns\n",
    "    -------\n",
    "    rank : int\n",
    "        The rank of matrix A.\n",
    "\n",
    "    \"\"\"\n",
    "\n",
    "    num_rows, num_cols = A.shape\n",
    "    rank = 0\n",
    "\n",
    "    for j in range(num_cols):\n",
    "        # Find the number of rows that have a 1 in the jth column\n",
    "        rows = []\n",
    "        for i in range(num_rows):\n",
    "            if A[i, j] == 1:\n",
    "                rows.append(i)\n",
    "\n",
    "        # If the jth column has more than one 1, use row addition to\n",
    "        # remove all 1s except the first one, then remove the first\n",
    "        # such row and increase the rank by 1\n",
    "        if len(rows) >= 1:\n",
    "            for c in range(1, len(rows)):\n",
    "                A[rows[c], :] = (A[rows[c], :] + A[rows[0], :]) % 2\n",
    "\n",
    "            A = np.delete(A, rows[0], 0)\n",
    "            num_rows -= 1\n",
    "            rank += 1\n",
    "\n",
    "    # For each remaining non-zero row in A, increase the rank by 1\n",
    "    for row in A:\n",
    "        if sum(row) > 0:\n",
    "            rank += 1\n",
    "\n",
    "    return rank"
   ]
  },
  {
   "cell_type": "code",
   "execution_count": 13,
   "id": "43fe7b37",
   "metadata": {},
   "outputs": [
    {
     "data": {
      "text/plain": [
       "0"
      ]
     },
     "execution_count": 13,
     "metadata": {},
     "output_type": "execute_result"
    }
   ],
   "source": [
    "binary_matrix_rank(check_matrices[0][:, :n])"
   ]
  },
  {
   "cell_type": "code",
   "execution_count": 26,
   "id": "4a7648c0",
   "metadata": {},
   "outputs": [],
   "source": [
    "check_mats_sorted = sorted(check_matrices, \n",
    "                           key=lambda mat: binary_matrix_rank(mat[:, :n]))"
   ]
  },
  {
   "cell_type": "code",
   "execution_count": 27,
   "id": "9f6fb46f",
   "metadata": {
    "jupyter": {
     "source_hidden": true
    }
   },
   "outputs": [
    {
     "data": {
      "text/plain": [
       "[array([[0, 1]]), array([[1, 0]]), array([[1, 1]])]"
      ]
     },
     "execution_count": 27,
     "metadata": {},
     "output_type": "execute_result"
    }
   ],
   "source": [
    "check_mats_sorted[:10]"
   ]
  },
  {
   "cell_type": "code",
   "execution_count": 28,
   "id": "56484541",
   "metadata": {},
   "outputs": [],
   "source": [
    "with open(f'data/{n}_qubit_subgroups.data', 'wb') as writer:\n",
    "    pickle.dump(check_mats_sorted, writer)"
   ]
  },
  {
   "cell_type": "code",
   "execution_count": 2,
   "id": "0049e43b",
   "metadata": {},
   "outputs": [],
   "source": [
    "def num_of_stab_states(n):\n",
    "    return 2**n * np.prod(2**np.arange(1, n+1) + 1)"
   ]
  },
  {
   "cell_type": "code",
   "execution_count": 3,
   "id": "3889e079",
   "metadata": {},
   "outputs": [
    {
     "data": {
      "text/plain": [
       "(2423520, 75735)"
      ]
     },
     "execution_count": 3,
     "metadata": {},
     "output_type": "execute_result"
    }
   ],
   "source": [
    "num_of_stab_states(5), num_of_stab_states(5) // 2**5"
   ]
  },
  {
   "cell_type": "code",
   "execution_count": 4,
   "id": "6f7c56b4",
   "metadata": {},
   "outputs": [
    {
     "data": {
      "text/plain": [
       "(315057600, 4922775)"
      ]
     },
     "execution_count": 4,
     "metadata": {},
     "output_type": "execute_result"
    }
   ],
   "source": [
    "num_of_stab_states(6), num_of_stab_states(6) // 2**6"
   ]
  }
 ],
 "metadata": {
  "kernelspec": {
   "display_name": "Python 3 (Spyder)",
   "language": "python3",
   "name": "python3"
  },
  "language_info": {
   "codemirror_mode": {
    "name": "ipython",
    "version": 3
   },
   "file_extension": ".py",
   "mimetype": "text/x-python",
   "name": "python",
   "nbconvert_exporter": "python",
   "pygments_lexer": "ipython3",
   "version": "3.10.12"
  }
 },
 "nbformat": 4,
 "nbformat_minor": 5
}
