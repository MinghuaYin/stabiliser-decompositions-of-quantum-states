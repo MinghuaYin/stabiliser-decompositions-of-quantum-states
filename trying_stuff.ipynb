{
 "cells": [
  {
   "cell_type": "code",
   "execution_count": 1,
   "id": "bd3a2ecc",
   "metadata": {},
   "outputs": [],
   "source": [
    "import pickle\n",
    "\n",
    "import numpy as np"
   ]
  },
  {
   "cell_type": "code",
   "execution_count": 8,
   "id": "3883d647",
   "metadata": {},
   "outputs": [],
   "source": [
    "with open('data/3_qubit_stab_sorted.data', 'rb') as reader:\n",
    "    stab_sorted = pickle.load(reader)"
   ]
  },
  {
   "cell_type": "code",
   "execution_count": 9,
   "id": "59cb07d4",
   "metadata": {},
   "outputs": [],
   "source": [
    "stab_matrix = np.loadtxt('data/3_qubit_matrix_sorted.csv', delimiter=',',\n",
    "                         dtype=complex)"
   ]
  },
  {
   "cell_type": "code",
   "execution_count": 10,
   "id": "53760be1",
   "metadata": {},
   "outputs": [],
   "source": [
    "selection = stab_matrix[:, ::8]"
   ]
  },
  {
   "cell_type": "code",
   "execution_count": 11,
   "id": "53d5b5ff",
   "metadata": {},
   "outputs": [
    {
     "data": {
      "text/plain": [
       "array([-0.5-0.j ,  0. -0.5j,  0. -0.j ,  0. -0.j ,  0. -0.j ,  0. -0.j ,\n",
       "        0. -0.5j, -0.5-0.j ])"
      ]
     },
     "execution_count": 11,
     "metadata": {},
     "output_type": "execute_result"
    }
   ],
   "source": [
    "stab_matrix[:, 560]"
   ]
  },
  {
   "cell_type": "code",
   "execution_count": 12,
   "id": "97f79f9d",
   "metadata": {},
   "outputs": [
    {
     "data": {
      "text/plain": [
       "{'vector': array([[-0.5-0.j ],\n",
       "        [ 0. -0.5j],\n",
       "        [ 0. -0.j ],\n",
       "        [ 0. -0.j ],\n",
       "        [ 0. -0.j ],\n",
       "        [ 0. -0.j ],\n",
       "        [ 0. -0.5j],\n",
       "        [-0.5-0.j ]]),\n",
       " 'latex': '\\\\frac{1}{2}\\\\big{(}-|000\\\\rangle-i|001\\\\rangle-i|110\\\\rangle-|111\\\\rangle\\\\big{)}',\n",
       " 'check_matrix': array([[1, 1, 0, 0, 1, 1],\n",
       "        [0, 0, 1, 0, 1, 1],\n",
       "        [0, 0, 0, 1, 1, 0]]),\n",
       " 'generator_strs': ['XYZ', 'IZY', 'ZZI']}"
      ]
     },
     "execution_count": 12,
     "metadata": {},
     "output_type": "execute_result"
    }
   ],
   "source": [
    "stab_sorted[560]"
   ]
  },
  {
   "cell_type": "code",
   "execution_count": 13,
   "id": "8ff5df9c",
   "metadata": {},
   "outputs": [
    {
     "data": {
      "text/plain": [
       "{'vector': array([[-0. -0.j ],\n",
       "        [-0. -0.j ],\n",
       "        [ 0.5-0.j ],\n",
       "        [-0. -0.5j],\n",
       "        [-0. -0.5j],\n",
       "        [ 0.5-0.j ],\n",
       "        [-0. -0.j ],\n",
       "        [-0. -0.j ]]),\n",
       " 'latex': '\\\\frac{1}{2}\\\\big{(}|010\\\\rangle-i|011\\\\rangle-i|100\\\\rangle+|101\\\\rangle\\\\big{)}',\n",
       " 'check_matrix': array([[1, 1, 0, 0, 1, 1],\n",
       "        [0, 0, 1, 0, 1, 1],\n",
       "        [0, 0, 0, 1, 1, 0]]),\n",
       " 'generator_strs': ['XYZ', 'IZY', '-ZZI']}"
      ]
     },
     "execution_count": 13,
     "metadata": {},
     "output_type": "execute_result"
    }
   ],
   "source": [
    "stab_sorted[561]"
   ]
  },
  {
   "cell_type": "code",
   "execution_count": 14,
   "id": "8c3a349c",
   "metadata": {},
   "outputs": [],
   "source": [
    "n = 3\n",
    "lin_dep_mat = np.loadtxt(f'data/{n}_qubit_nullspace_nice.csv', delimiter=',', dtype=complex)\n",
    "updated_mat = (lin_dep_mat * np.sqrt(2)).round(3)"
   ]
  },
  {
   "cell_type": "code",
   "execution_count": 15,
   "id": "c39b3516",
   "metadata": {},
   "outputs": [],
   "source": [
    "updated_mat[updated_mat == 1.414] = np.sqrt(2)"
   ]
  },
  {
   "cell_type": "code",
   "execution_count": 31,
   "id": "ded5966c",
   "metadata": {},
   "outputs": [],
   "source": [
    "np.savetxt(f'data/{n}_qubit_B.csv', updated_mat, delimiter=',', fmt='%f')"
   ]
  },
  {
   "cell_type": "markdown",
   "id": "a6f7fa02",
   "metadata": {},
   "source": [
    "------"
   ]
  },
  {
   "cell_type": "code",
   "execution_count": 2,
   "id": "75439292",
   "metadata": {},
   "outputs": [],
   "source": [
    "n = 5\n",
    "with open(f'data/{n}_qubit_subgroups.data', 'rb') as reader:\n",
    "    check_matrices = pickle.load(reader)"
   ]
  },
  {
   "cell_type": "code",
   "execution_count": 4,
   "id": "086468e9",
   "metadata": {},
   "outputs": [],
   "source": [
    "def binary_matrix_rank(A):\n",
    "    \"\"\"\n",
    "    Finds the rank of the binary matrix A by effectively converting it\n",
    "    into row echelon form.\n",
    "\n",
    "    Parameters\n",
    "    ----------\n",
    "    A : np.ndarray\n",
    "\n",
    "    N.B. This method *changes* the matrix A!\n",
    "\n",
    "    Returns\n",
    "    -------\n",
    "    rank : int\n",
    "        The rank of matrix A.\n",
    "\n",
    "    \"\"\"\n",
    "\n",
    "    num_rows, num_cols = A.shape\n",
    "    rank = 0\n",
    "\n",
    "    for j in range(num_cols):\n",
    "        # Find the number of rows that have a 1 in the jth column\n",
    "        rows = []\n",
    "        for i in range(num_rows):\n",
    "            if A[i, j] == 1:\n",
    "                rows.append(i)\n",
    "\n",
    "        # If the jth column has more than one 1, use row addition to\n",
    "        # remove all 1s except the first one, then remove the first\n",
    "        # such row and increase the rank by 1\n",
    "        if len(rows) >= 1:\n",
    "            for c in range(1, len(rows)):\n",
    "                A[rows[c], :] = (A[rows[c], :] + A[rows[0], :]) % 2\n",
    "\n",
    "            A = np.delete(A, rows[0], 0)\n",
    "            num_rows -= 1\n",
    "            rank += 1\n",
    "\n",
    "    # For each remaining non-zero row in A, increase the rank by 1\n",
    "    for row in A:\n",
    "        if sum(row) > 0:\n",
    "            rank += 1\n",
    "\n",
    "    return rank"
   ]
  },
  {
   "cell_type": "code",
   "execution_count": 13,
   "id": "354f8a4e",
   "metadata": {},
   "outputs": [
    {
     "data": {
      "text/plain": [
       "0"
      ]
     },
     "execution_count": 13,
     "metadata": {},
     "output_type": "execute_result"
    }
   ],
   "source": [
    "binary_matrix_rank(check_matrices[0][:, :n])"
   ]
  },
  {
   "cell_type": "code",
   "execution_count": 26,
   "id": "c9e6a7e4",
   "metadata": {},
   "outputs": [],
   "source": [
    "check_mats_sorted = sorted(check_matrices, \n",
    "                           key=lambda mat: binary_matrix_rank(mat[:, :n]))"
   ]
  },
  {
   "cell_type": "code",
   "execution_count": 27,
   "id": "18b08fd2",
   "metadata": {
    "jupyter": {
     "source_hidden": true
    }
   },
   "outputs": [
    {
     "data": {
      "text/plain": [
       "[array([[0, 1]]), array([[1, 0]]), array([[1, 1]])]"
      ]
     },
     "execution_count": 27,
     "metadata": {},
     "output_type": "execute_result"
    }
   ],
   "source": [
    "check_mats_sorted[:10]"
   ]
  },
  {
   "cell_type": "code",
   "execution_count": 28,
   "id": "bb7d99cf",
   "metadata": {},
   "outputs": [],
   "source": [
    "with open(f'data/{n}_qubit_subgroups.data', 'wb') as writer:\n",
    "    pickle.dump(check_mats_sorted, writer)"
   ]
  },
  {
   "cell_type": "code",
   "execution_count": 2,
   "id": "a7423a14",
   "metadata": {},
   "outputs": [],
   "source": [
    "def num_of_stab_states(n):\n",
    "    return 2**n * np.prod(2**np.arange(1, n+1) + 1)"
   ]
  },
  {
   "cell_type": "code",
   "execution_count": 3,
   "id": "449323e5",
   "metadata": {},
   "outputs": [
    {
     "data": {
      "text/plain": [
       "(2423520, 75735)"
      ]
     },
     "execution_count": 3,
     "metadata": {},
     "output_type": "execute_result"
    }
   ],
   "source": [
    "num_of_stab_states(5), num_of_stab_states(5) // 2**5"
   ]
  },
  {
   "cell_type": "code",
   "execution_count": 4,
   "id": "29cbe03d",
   "metadata": {},
   "outputs": [
    {
     "data": {
      "text/plain": [
       "(315057600, 4922775)"
      ]
     },
     "execution_count": 4,
     "metadata": {},
     "output_type": "execute_result"
    }
   ],
   "source": [
    "num_of_stab_states(6), num_of_stab_states(6) // 2**6"
   ]
  },
  {
   "cell_type": "markdown",
   "id": "b4aa5333",
   "metadata": {},
   "source": [
    "------"
   ]
  },
  {
   "cell_type": "code",
   "execution_count": 2,
   "id": "1637061c",
   "metadata": {},
   "outputs": [],
   "source": [
    "import numpy as np\n",
    "import scipy as sp\n",
    "import scipy.sparse as spr"
   ]
  },
  {
   "cell_type": "code",
   "execution_count": 3,
   "id": "95ce1183",
   "metadata": {},
   "outputs": [],
   "source": [
    "B_2 = spr.load_npz('data/2_qubit_B.npz')"
   ]
  },
  {
   "cell_type": "code",
   "execution_count": 8,
   "id": "00650472",
   "metadata": {},
   "outputs": [],
   "source": [
    "nonzero_2 = []\n",
    "for j in range(B_2.shape[1]):\n",
    "    nonzero_2.append(B_2[:, j].nonzero()[0])"
   ]
  },
  {
   "cell_type": "code",
   "execution_count": 9,
   "id": "418f622e",
   "metadata": {},
   "outputs": [
    {
     "data": {
      "text/plain": [
       "[array([0, 1, 4], dtype=int32),\n",
       " array([2, 3, 5], dtype=int32),\n",
       " array([0, 1, 6], dtype=int32),\n",
       " array([2, 3, 7], dtype=int32),\n",
       " array([0, 1, 8], dtype=int32),\n",
       " array([2, 3, 9], dtype=int32),\n",
       " array([ 0,  1, 10], dtype=int32),\n",
       " array([ 2,  3, 11], dtype=int32),\n",
       " array([ 0,  2, 12], dtype=int32),\n",
       " array([ 1,  3, 13], dtype=int32),\n",
       " array([ 0,  2, 14], dtype=int32),\n",
       " array([ 1,  3, 15], dtype=int32),\n",
       " array([ 0,  2, 16], dtype=int32),\n",
       " array([ 1,  3, 17], dtype=int32),\n",
       " array([ 0,  2, 18], dtype=int32),\n",
       " array([ 1,  3, 19], dtype=int32),\n",
       " array([ 0,  3, 20], dtype=int32),\n",
       " array([ 1,  2, 21], dtype=int32),\n",
       " array([ 0,  3, 22], dtype=int32),\n",
       " array([ 1,  2, 23], dtype=int32),\n",
       " array([ 0,  3, 24], dtype=int32),\n",
       " array([ 1,  2, 25], dtype=int32),\n",
       " array([ 0,  3, 26], dtype=int32),\n",
       " array([ 1,  2, 27], dtype=int32),\n",
       " array([ 4,  5, 28], dtype=int32),\n",
       " array([ 6,  7, 29], dtype=int32),\n",
       " array([ 4,  5, 30], dtype=int32),\n",
       " array([ 6,  7, 31], dtype=int32),\n",
       " array([ 8,  9, 32], dtype=int32),\n",
       " array([10, 11, 33], dtype=int32),\n",
       " array([ 8,  9, 34], dtype=int32),\n",
       " array([10, 11, 35], dtype=int32),\n",
       " array([ 4,  7, 36], dtype=int32),\n",
       " array([ 5,  6, 37], dtype=int32),\n",
       " array([ 4,  7, 38], dtype=int32),\n",
       " array([ 5,  6, 39], dtype=int32),\n",
       " array([ 8, 11, 40], dtype=int32),\n",
       " array([ 9, 10, 41], dtype=int32),\n",
       " array([ 8, 11, 42], dtype=int32),\n",
       " array([ 9, 10, 43], dtype=int32),\n",
       " array([ 4,  5, 44], dtype=int32),\n",
       " array([ 6,  7, 45], dtype=int32),\n",
       " array([ 4,  5, 46], dtype=int32),\n",
       " array([ 6,  7, 47], dtype=int32),\n",
       " array([ 8,  9, 48], dtype=int32),\n",
       " array([10, 11, 49], dtype=int32),\n",
       " array([ 8,  9, 50], dtype=int32),\n",
       " array([10, 11, 51], dtype=int32),\n",
       " array([ 4,  7, 52], dtype=int32),\n",
       " array([ 5,  6, 53], dtype=int32),\n",
       " array([ 4,  7, 54], dtype=int32),\n",
       " array([ 5,  6, 55], dtype=int32),\n",
       " array([ 8, 11, 56], dtype=int32),\n",
       " array([ 9, 10, 57], dtype=int32),\n",
       " array([ 8, 11, 58], dtype=int32),\n",
       " array([ 9, 10, 59], dtype=int32)]"
      ]
     },
     "execution_count": 9,
     "metadata": {},
     "output_type": "execute_result"
    }
   ],
   "source": [
    "nonzero_2"
   ]
  }
 ],
 "metadata": {
  "kernelspec": {
   "display_name": "Python 3 (Spyder)",
   "language": "python3",
   "name": "python3"
  },
  "language_info": {
   "codemirror_mode": {
    "name": "ipython",
    "version": 3
   },
   "file_extension": ".py",
   "mimetype": "text/x-python",
   "name": "python",
   "nbconvert_exporter": "python",
   "pygments_lexer": "ipython3",
   "version": "3.10.12"
  }
 },
 "nbformat": 4,
 "nbformat_minor": 5
}
