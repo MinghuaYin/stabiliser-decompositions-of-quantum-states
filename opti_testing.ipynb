{
 "cells": [
  {
   "cell_type": "code",
   "execution_count": 6,
   "metadata": {},
   "outputs": [
    {
     "data": {
      "text/plain": [
       "(2.2072246659971793,\n",
       " array([-0.01776695+0.04289322j,  0.01776695+0.04289322j,\n",
       "         0.01776695+0.04289322j,  0.04289322+0.01776695j,\n",
       "         0.01776695+0.04289322j,  0.04289322+0.01776695j,\n",
       "         0.04289322+0.01776695j,  0.04289322-0.01776695j,\n",
       "         0.01776695+0.04289322j,  0.04289322+0.01776695j,\n",
       "         0.04289322+0.01776695j,  0.04289322-0.01776695j,\n",
       "         0.04289322+0.01776695j,  0.04289322-0.01776695j,\n",
       "         0.04289322-0.01776695j,  0.01776695-0.04289322j,\n",
       "         0.01776695+0.04289322j,  0.04289322+0.01776695j,\n",
       "         0.04289322+0.01776695j,  0.04289322-0.01776695j,\n",
       "         0.04289322+0.01776695j,  0.04289322-0.01776695j,\n",
       "         0.04289322-0.01776695j,  0.01776695-0.04289322j,\n",
       "         0.04289322+0.01776695j,  0.04289322-0.01776695j,\n",
       "         0.04289322-0.01776695j,  0.01776695-0.04289322j,\n",
       "         0.04289322-0.01776695j,  0.01776695-0.04289322j,\n",
       "         0.01776695-0.04289322j, -0.01776695-0.04289322j]))"
      ]
     },
     "execution_count": 6,
     "metadata": {},
     "output_type": "execute_result"
    }
   ],
   "source": [
    "import math\n",
    "import mpmath\n",
    "\n",
    "import cvx_opti as opt\n",
    "import numpy as np\n",
    "import scipy as sp\n",
    "import scipy.sparse as spr\n",
    "\n",
    "n = 5\n",
    "soln = np.load(f'data/{n}_qubit_soln.npy')\n",
    "soln = spr.csc_array(soln)\n",
    "B = spr.load_npz(f'data/{n}_qubit_B.npz')\n",
    "\n",
    "extent, state_vectors, soln = opt.more_precise_soln(n, B, soln, opt.T_state(n))\n",
    "extent, soln"
   ]
  },
  {
   "cell_type": "code",
   "execution_count": 9,
   "metadata": {},
   "outputs": [
    {
     "data": {
      "text/plain": [
       "'(2**(125/197)*3**(249/197)*5**(179/197))/(7**(253/197))'"
      ]
     },
     "execution_count": 9,
     "metadata": {},
     "output_type": "execute_result"
    }
   ],
   "source": [
    "mpmath.identify(extent)"
   ]
  },
  {
   "cell_type": "code",
   "execution_count": 8,
   "metadata": {},
   "outputs": [
    {
     "data": {
      "text/plain": [
       "2.207224665997184"
      ]
     },
     "execution_count": 8,
     "metadata": {},
     "output_type": "execute_result"
    }
   ],
   "source": [
    "(4/(2 + math.sqrt(2)))**n"
   ]
  },
  {
   "cell_type": "code",
   "execution_count": 1,
   "metadata": {},
   "outputs": [],
   "source": [
    "import mpmath"
   ]
  },
  {
   "cell_type": "code",
   "execution_count": 4,
   "metadata": {},
   "outputs": [
    {
     "data": {
      "text/plain": [
       "'(2**(119/41)*7**(138/41))/(3**(238/41)*5**(9/41))'"
      ]
     },
     "execution_count": 4,
     "metadata": {},
     "output_type": "execute_result"
    }
   ],
   "source": [
    "mpmath.identify(6.23927889)"
   ]
  }
 ],
 "metadata": {
  "kernelspec": {
   "display_name": "base",
   "language": "python",
   "name": "python3"
  },
  "language_info": {
   "codemirror_mode": {
    "name": "ipython",
    "version": 3
   },
   "file_extension": ".py",
   "mimetype": "text/x-python",
   "name": "python",
   "nbconvert_exporter": "python",
   "pygments_lexer": "ipython3",
   "version": "3.10.12"
  }
 },
 "nbformat": 4,
 "nbformat_minor": 2
}
