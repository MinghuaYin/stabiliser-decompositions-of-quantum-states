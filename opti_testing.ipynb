{
 "cells": [
  {
   "cell_type": "code",
   "execution_count": 3,
   "metadata": {},
   "outputs": [
    {
     "data": {
      "text/plain": [
       "(2.2072246659971833,\n",
       " array([[-0.01776695+0.04289322j],\n",
       "        [ 0.01776695+0.04289322j],\n",
       "        [ 0.01776695+0.04289322j],\n",
       "        [ 0.04289322+0.01776695j],\n",
       "        [ 0.01776695+0.04289322j],\n",
       "        [ 0.04289322+0.01776695j],\n",
       "        [ 0.04289322+0.01776695j],\n",
       "        [ 0.04289322-0.01776695j],\n",
       "        [ 0.01776695+0.04289322j],\n",
       "        [ 0.04289322+0.01776695j],\n",
       "        [ 0.04289322+0.01776695j],\n",
       "        [ 0.04289322-0.01776695j],\n",
       "        [ 0.04289322+0.01776695j],\n",
       "        [ 0.04289322-0.01776695j],\n",
       "        [ 0.04289322-0.01776695j],\n",
       "        [ 0.01776695-0.04289322j],\n",
       "        [ 0.01776695+0.04289322j],\n",
       "        [ 0.04289322+0.01776695j],\n",
       "        [ 0.04289322+0.01776695j],\n",
       "        [ 0.04289322-0.01776695j],\n",
       "        [ 0.04289322+0.01776695j],\n",
       "        [ 0.04289322-0.01776695j],\n",
       "        [ 0.04289322-0.01776695j],\n",
       "        [ 0.01776695-0.04289322j],\n",
       "        [ 0.04289322+0.01776695j],\n",
       "        [ 0.04289322-0.01776695j],\n",
       "        [ 0.04289322-0.01776695j],\n",
       "        [ 0.01776695-0.04289322j],\n",
       "        [ 0.04289322-0.01776695j],\n",
       "        [ 0.01776695-0.04289322j],\n",
       "        [ 0.01776695-0.04289322j],\n",
       "        [-0.01776695-0.04289322j]]))"
      ]
     },
     "execution_count": 3,
     "metadata": {},
     "output_type": "execute_result"
    }
   ],
   "source": [
    "import math\n",
    "import mpmath\n",
    "\n",
    "import cvx_opti as opt\n",
    "import numpy as np\n",
    "import scipy as sp\n",
    "import scipy.sparse as spr\n",
    "\n",
    "n = 5\n",
    "soln = np.load(f'data/{n}_qubit_soln.npy')\n",
    "soln = spr.csc_array(soln)\n",
    "B = spr.load_npz(f'data/{n}_qubit_B.npz')\n",
    "\n",
    "old_soln, extent, state_vectors, soln = opt.more_precise_soln(n, B, soln, opt.T_state(n))\n",
    "extent**2, soln"
   ]
  },
  {
   "cell_type": "code",
   "execution_count": 11,
   "metadata": {},
   "outputs": [
    {
     "data": {
      "text/plain": [
       "'(2**(88/15)*7**(66/5))/(3**(17/15)*5**(262/15))'"
      ]
     },
     "execution_count": 11,
     "metadata": {},
     "output_type": "execute_result"
    }
   ],
   "source": [
    "mpmath.identify(round(extent, 8))"
   ]
  },
  {
   "cell_type": "code",
   "execution_count": 8,
   "metadata": {},
   "outputs": [
    {
     "data": {
      "text/plain": [
       "2.207224665997184"
      ]
     },
     "execution_count": 8,
     "metadata": {},
     "output_type": "execute_result"
    }
   ],
   "source": [
    "(4/(2 + math.sqrt(2)))**n"
   ]
  },
  {
   "cell_type": "code",
   "execution_count": 1,
   "metadata": {},
   "outputs": [],
   "source": [
    "import mpmath"
   ]
  },
  {
   "cell_type": "code",
   "execution_count": 4,
   "metadata": {},
   "outputs": [
    {
     "data": {
      "text/plain": [
       "'(2**(119/41)*7**(138/41))/(3**(238/41)*5**(9/41))'"
      ]
     },
     "execution_count": 4,
     "metadata": {},
     "output_type": "execute_result"
    }
   ],
   "source": [
    "mpmath.identify(6.23927889)"
   ]
  },
  {
   "cell_type": "markdown",
   "metadata": {},
   "source": [
    "----------------"
   ]
  },
  {
   "cell_type": "code",
   "execution_count": 1,
   "metadata": {},
   "outputs": [],
   "source": [
    "import cvx_opti as op\n",
    "import numpy as np\n",
    "import scipy as sp\n",
    "import scipy.sparse as spr"
   ]
  },
  {
   "cell_type": "code",
   "execution_count": 2,
   "metadata": {},
   "outputs": [],
   "source": [
    "CCZ_state_vecs = np.load('opti_data/CC^2Z_state_vectors.npy')"
   ]
  },
  {
   "cell_type": "code",
   "execution_count": 3,
   "metadata": {},
   "outputs": [
    {
     "data": {
      "text/plain": [
       "(8, 8)"
      ]
     },
     "execution_count": 3,
     "metadata": {},
     "output_type": "execute_result"
    }
   ],
   "source": [
    "CCZ_state_vecs.shape"
   ]
  },
  {
   "cell_type": "code",
   "execution_count": 4,
   "metadata": {},
   "outputs": [
    {
     "data": {
      "text/plain": [
       "array([ 0.35355339,  0.35355339,  0.35355339,  0.35355339,  0.35355339,\n",
       "        0.35355339,  0.35355339, -0.35355339])"
      ]
     },
     "execution_count": 4,
     "metadata": {},
     "output_type": "execute_result"
    }
   ],
   "source": [
    "CCZ = op.CCZ_state(2)\n",
    "CCZ"
   ]
  },
  {
   "cell_type": "code",
   "execution_count": 5,
   "metadata": {},
   "outputs": [
    {
     "data": {
      "text/plain": [
       "array([ 1.17756934e-16+0.j,  5.00000000e-01+0.j, -2.54333800e-16+0.j,\n",
       "        5.00000000e-01+0.j, -3.09844951e-16+0.j,  5.00000000e-01+0.j,\n",
       "       -2.54333800e-16+0.j, -5.00000000e-01+0.j])"
      ]
     },
     "execution_count": 5,
     "metadata": {},
     "output_type": "execute_result"
    }
   ],
   "source": [
    "soln = np.linalg.lstsq(CCZ_state_vecs, CCZ, rcond=None)[0]\n",
    "soln"
   ]
  },
  {
   "cell_type": "code",
   "execution_count": 6,
   "metadata": {},
   "outputs": [
    {
     "data": {
      "text/plain": [
       "array([ 0.35355339+0.j,  0.35355339+0.j,  0.35355339+0.j,  0.35355339+0.j,\n",
       "        0.35355339+0.j,  0.35355339+0.j,  0.35355339+0.j, -0.35355339+0.j])"
      ]
     },
     "execution_count": 6,
     "metadata": {},
     "output_type": "execute_result"
    }
   ],
   "source": [
    "CCZ_state_vecs @ soln"
   ]
  },
  {
   "cell_type": "code",
   "execution_count": 65,
   "metadata": {},
   "outputs": [
    {
     "data": {
      "text/plain": [
       "2.000000000000001"
      ]
     },
     "execution_count": 65,
     "metadata": {},
     "output_type": "execute_result"
    }
   ],
   "source": [
    "np.linalg.norm(soln, 1)"
   ]
  },
  {
   "cell_type": "code",
   "execution_count": 66,
   "metadata": {},
   "outputs": [
    {
     "name": "stdout",
     "output_type": "stream",
     "text": [
      "status: optimal\n",
      "optimal objective value: 1.7777777859107302\n",
      "(4/(2 + math.sqrt(2)))**n = 1.6080810142133546\n"
     ]
    }
   ],
   "source": [
    "B, extent, old_x = op.optimize_stab_extent(CCZ, 3)"
   ]
  },
  {
   "cell_type": "code",
   "execution_count": 30,
   "metadata": {},
   "outputs": [],
   "source": [
    "num_stab_states = B.shape[0]\n",
    "\n",
    "c = np.zeros(num_stab_states, dtype=complex)\n",
    "c[:(1 << 3)] = CCZ\n",
    "c = spr.csc_array(c, dtype=complex).reshape((num_stab_states, 1))\n",
    "\n",
    "x_sparse = spr.csc_array(old_x, dtype=complex)\n",
    "old_soln = c + B @ x_sparse"
   ]
  },
  {
   "cell_type": "code",
   "execution_count": 32,
   "metadata": {},
   "outputs": [],
   "source": [
    "old_soln = old_soln.toarray()"
   ]
  },
  {
   "cell_type": "code",
   "execution_count": 40,
   "metadata": {},
   "outputs": [
    {
     "data": {
      "text/plain": [
       "array([568, 584, 632, 649, 696, 714, 764, 779])"
      ]
     },
     "execution_count": 40,
     "metadata": {},
     "output_type": "execute_result"
    }
   ],
   "source": [
    "nz_indices = np.nonzero(old_soln.round(4))[0]\n",
    "nz_indices"
   ]
  },
  {
   "cell_type": "code",
   "execution_count": 58,
   "metadata": {},
   "outputs": [
    {
     "data": {
      "text/plain": [
       "array([0.16666667+1.30878650e-12j, 0.16666667+2.23114833e-11j,\n",
       "       0.16666667-1.26778215e-11j, 0.16666667+1.03900775e-11j,\n",
       "       0.16666667-9.58721154e-12j, 0.16666667-4.45943927e-12j,\n",
       "       0.16666667+4.77460920e-12j, 0.16666667-9.23652376e-12j])"
      ]
     },
     "execution_count": 58,
     "metadata": {},
     "output_type": "execute_result"
    }
   ],
   "source": [
    "old_soln[old_soln.round(4) != 0]"
   ]
  },
  {
   "cell_type": "code",
   "execution_count": 38,
   "metadata": {},
   "outputs": [],
   "source": [
    "import pickle\n",
    "with open('data/3_qubit_subgroups.data', 'rb') as reader:\n",
    "    xmatrs = pickle.load(reader)"
   ]
  },
  {
   "cell_type": "code",
   "execution_count": 48,
   "metadata": {},
   "outputs": [],
   "source": [
    "from F2_helper.F2_helper import int_to_array\n",
    "from stabiliser_state.Check_Matrix import Check_Matrix\n",
    "\n",
    "state_vectors = spr.dok_array((1 << 3, len(nz_indices)), dtype=complex)\n",
    "for j, index in enumerate(nz_indices):\n",
    "    basis_num = index // (1 << 3)\n",
    "    signs = int_to_array(index % (1 << 3), 3)\n",
    "\n",
    "    sv = Check_Matrix.from_binary_matrix(\n",
    "        xmatrs[basis_num], signs).get_stabiliser_state().get_state_vector()\n",
    "    state_vectors[:, j] = sv"
   ]
  },
  {
   "cell_type": "code",
   "execution_count": 49,
   "metadata": {},
   "outputs": [],
   "source": [
    "state_vectors = state_vectors.toarray()"
   ]
  },
  {
   "cell_type": "code",
   "execution_count": 53,
   "metadata": {},
   "outputs": [
    {
     "data": {
      "text/plain": [
       "True"
      ]
     },
     "execution_count": 53,
     "metadata": {},
     "output_type": "execute_result"
    }
   ],
   "source": [
    "np.allclose(CCZ_state_vecs, state_vectors)"
   ]
  },
  {
   "cell_type": "markdown",
   "metadata": {},
   "source": [
    "-------"
   ]
  },
  {
   "cell_type": "code",
   "execution_count": 1,
   "metadata": {},
   "outputs": [],
   "source": [
    "import cvx_opti as op\n",
    "import numpy as np\n",
    "import scipy as sp\n",
    "import scipy.sparse as spr\n",
    "import pickle"
   ]
  },
  {
   "cell_type": "code",
   "execution_count": 8,
   "metadata": {},
   "outputs": [
    {
     "data": {
      "text/plain": [
       "array([0, 0, 0, 0, 1, 1, 1, 0, 0, 0], dtype=int8)"
      ]
     },
     "execution_count": 8,
     "metadata": {},
     "output_type": "execute_result"
    }
   ],
   "source": [
    "import F2_helper.F2_helper as f2\n",
    "f2.int_to_array(56, 10)"
   ]
  },
  {
   "cell_type": "code",
   "execution_count": 14,
   "metadata": {},
   "outputs": [
    {
     "data": {
      "text/plain": [
       "184"
      ]
     },
     "execution_count": 14,
     "metadata": {},
     "output_type": "execute_result"
    }
   ],
   "source": [
    "f2.array_to_int(np.array([1, 0, 1, 1, 1, 0, 0, 0]))"
   ]
  }
 ],
 "metadata": {
  "kernelspec": {
   "display_name": "base",
   "language": "python",
   "name": "python3"
  },
  "language_info": {
   "codemirror_mode": {
    "name": "ipython",
    "version": 3
   },
   "file_extension": ".py",
   "mimetype": "text/x-python",
   "name": "python",
   "nbconvert_exporter": "python",
   "pygments_lexer": "ipython3",
   "version": "3.10.12"
  }
 },
 "nbformat": 4,
 "nbformat_minor": 2
}
